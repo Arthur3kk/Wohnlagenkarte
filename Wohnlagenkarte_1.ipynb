{
 "cells": [
  {
   "cell_type": "markdown",
   "metadata": {},
   "source": [
    "# Wohnlagen in Bielefeld"
   ]
  },
  {
   "cell_type": "markdown",
   "metadata": {},
   "source": [
    "Datenbasis für den Code Sprint sind die städtischen Daten zur Wohnlagenkarte [1] aus dem open-data Portal der Stadt Bielefeld. Weitere Teile der Stadt werden von diesem Datensatz durch bewertete Polygone überdeckt.\n",
    "\n",
    "[1] Die Ausgangsdaten basieren auf der Wohnlagenkarte der Stadt Bielefeld, abgerufen von https://open-data.bielefeld.de/dataset/wohnlagenkarte, am 21.4.18. @ Stadt Bielefeld, Amt für Geoinformation und Kataster (CC BY 4.0)"
   ]
  },
  {
   "cell_type": "markdown",
   "metadata": {},
   "source": [
    "## Die Definition der Wohnlage ist mit den Kennzahlen von 1 bis 4 angegeben.\n",
    "\n",
    "### 1: Einfache Wohnlage\n",
    "Als einfache Wohnlagen gelten Wohngebiete mit nachteilig wirkendem Charakter, z. B. durch die Lage an stark frequentierten Verkehrswegen, ein negatives Image als sozialer Brennpunkt und unzureichende Versorgungsinfrastruktur und/oder ihre Nähe zu größeren Gewerbe- und Industriegebieten\n",
    "\n",
    "### 2: Normale Wohnlage\n",
    "Der überwiegende Teil des Stadtgebietes wird durch die normale Wohnlage ohne besondere Vor- und Nachteile geprägt. Durchschnittliche Immissionsbelastungen kennzeichnen diese Gebiete. Grundstücke mit genÃ¼gend Freiflächen sind charakteristisch für normale Wohnlagen, die den Nachteil der durchschnittlichen Immissionsbelastung wieder ausgleichen.\n",
    "\n",
    "### 3: Gute Wohnlage\n",
    "Gute Wohnlagen befinden sich meist in einem weitgehend abgeschlossenen, durchgrünten Wohngebiet mit aufgelockerter Bebauung, verkehrsgünstig gelegen und in der Nähe von Erholungsflächen, positives Image. Stark nachgefragte innerstädtische Wohnquartiere (Urbanes Wohnen) fallen ebenfalls in diese Kategorie.\n",
    "\n",
    "### 4: Sehr gute/bevorzugte Wohnlage\n",
    "Besonders imageträchtige und stark nachgefragte Innenstadtrandlagen. Sehr gute Wohnlagen weisen in der Regel alle Vorteile der guten Wohnlage auf, verfügen darüber hinaus noch über mindestens eine weiteren herausragenden Nutzungsvorteil wie Topograhie oder eine besonders schöne Landschaft, Nachbarschaft und Umgebung. Sehr gute/bevorzugte Wohnlagen sind oft geprägt durch luxuriöse Bebauung mit großzügigen Außenanlagen und großen Abständen zur Nachbarbebauung. In diese Kategorie fallen auch Stadthäuser, häufig aus der Gründerzeit. "
   ]
  },
  {
   "cell_type": "markdown",
   "metadata": {},
   "source": [
    "## 2D-Visualisierung der Wohnlagen"
   ]
  },
  {
   "cell_type": "markdown",
   "metadata": {},
   "source": [
    "Lade notwendige Bibliotheken."
   ]
  },
  {
   "cell_type": "code",
   "execution_count": 4,
   "metadata": {},
   "outputs": [],
   "source": [
    "library(sf)\n",
    "library(ggplot2)\n",
    "library(ggmap)"
   ]
  },
  {
   "cell_type": "markdown",
   "metadata": {},
   "source": [
    "Erstelle einen Plot über die unterschiedlich eingefärbten Wohngebiete."
   ]
  },
  {
   "cell_type": "code",
   "execution_count": 3,
   "metadata": {},
   "outputs": [
    {
     "name": "stdout",
     "output_type": "stream",
     "text": [
      "Reading layer `wohnlagenkarte_pl' from data source `/home/jovyan/wohnlagenkarte.gml' using driver `GML'\n",
      "Simple feature collection with 809 features and 3 fields\n",
      "geometry type:  MULTIPOLYGON\n",
      "dimension:      XY\n",
      "bbox:           xmin: 460795.4 ymin: 5752265 xmax: 476396.9 ymax: 5772789\n",
      "epsg (SRID):    25832\n",
      "proj4string:    +proj=utm +zone=32 +ellps=GRS80 +towgs84=0,0,0,0,0,0,0 +units=m +no_defs\n"
     ]
    },
    {
     "ename": "ERROR",
     "evalue": "Error in geom_sf(data = wk, aes(fill = lagequalit)): could not find function \"geom_sf\"\n",
     "output_type": "error",
     "traceback": [
      "Error in geom_sf(data = wk, aes(fill = lagequalit)): could not find function \"geom_sf\"\nTraceback:\n"
     ]
    }
   ],
   "source": [
    "wk <- st_read(\"data/wohnlagenkarte.gml\")\n",
    "ggplot(wk) + geom_sf(data = wk, aes(fill = lagequalit)) +\n",
    "  ggtitle(\"Wohnlagenkarte von Bielefeld\") +\n",
    "  theme_bw()"
   ]
  },
  {
   "cell_type": "markdown",
   "metadata": {},
   "source": [
    "Wir können auch die offiziellen Stadtbezirksgrenzen gemäß amtlichem Liegenschaftkataster plotten."
   ]
  },
  {
   "cell_type": "code",
   "execution_count": null,
   "metadata": {},
   "outputs": [],
   "source": [
    "bzrk <- st_read(\"data/stadtbezirke.gml\")\n",
    "ggplot(bzrk) + geom_sf(data = bzrk) +\n",
    "  ggtitle(\"Stadtbezirksgrenzen von Bielefeld\") +\n",
    "  theme_bw()"
   ]
  },
  {
   "cell_type": "markdown",
   "metadata": {},
   "source": [
    "Kombiniert man diese beiden Datensätze, dann ergibt sich folgendes Bild der Wohlagenkarte"
   ]
  },
  {
   "cell_type": "code",
   "execution_count": null,
   "metadata": {},
   "outputs": [],
   "source": [
    "ggplot(bzrk) + geom_sf(data = bzrk) +\n",
    "  geom_sf(data = wk, aes(fill = lagequalit)) +\n",
    "  ggtitle(\"Wohnlagenkarte von Bielefeld\") +\n",
    "  theme_bw()"
   ]
  }
 ],
 "metadata": {
  "kernelspec": {
   "display_name": "R",
   "language": "R",
   "name": "ir"
  },
  "language_info": {
   "codemirror_mode": "r",
   "file_extension": ".r",
   "mimetype": "text/x-r-source",
   "name": "R",
   "pygments_lexer": "r",
   "version": "3.4.1"
  }
 },
 "nbformat": 4,
 "nbformat_minor": 2
}
